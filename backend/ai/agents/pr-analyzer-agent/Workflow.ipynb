{
 "cells": [
  {
   "cell_type": "code",
   "execution_count": 6,
   "id": "a61bbc1b",
   "metadata": {},
   "outputs": [],
   "source": [
    "from langgraph.graph import StateGraph, START, END\n",
    "from State import AnalyzerAgent\n",
    "from IPython.display import Image\n",
    "\n"
   ]
  },
  {
   "cell_type": "code",
   "execution_count": 7,
   "id": "d5018e31",
   "metadata": {},
   "outputs": [],
   "source": [
    "# Nodes\n",
    "def extract_diff(state: AnalyzerAgent) -> AnalyzerAgent:\n",
    "    \"\"\"This node will extract the diff from the pull request\"\"\"\n",
    "    \n",
    "    \n",
    "    \n",
    "    return state[\"diff\"]\n",
    "\n",
    "\n",
    "def analyze_diff(state: AnalyzerAgent) -> AnalyzerAgent:\n",
    "    \"\"\"This node will analyze the diff from the state and update the analyzed_diff state\"\"\"\n",
    "    \n",
    "    \n",
    "    \n",
    "    return state[\"analyzed_diff\"]\n",
    "\n",
    "\n",
    "def create_summary(state: AnalyzerAgent) -> AnalyzerAgent:\n",
    "    \"\"\"This node will create a short summary based on the analyzed diff\"\"\"\n",
    "    \n",
    "    \n",
    "    \n",
    "    return state[\"summary\"]"
   ]
  },
  {
   "cell_type": "code",
   "execution_count": 9,
   "id": "da572207",
   "metadata": {},
   "outputs": [
    {
     "data": {
      "image/png": "[encoded data removed]",
      "text/plain": [
       "<IPython.core.display.Image object>"
      ]
     },
     "execution_count": 9,
     "metadata": {},
     "output_type": "execute_result"
    }
   ],
   "source": [
    "# Graph\n",
    "graph = StateGraph(AnalyzerAgent)\n",
    "\n",
    "# Add nodes to graph\n",
    "graph.add_node(\"extract_diff\", extract_diff)\n",
    "graph.add_node(\"analyze_diff\", analyze_diff)\n",
    "graph.add_node(\"create_summary\", create_summary)\n",
    "\n",
    "# Draw graph\n",
    "graph.add_edge(START, \"extract_diff\")\n",
    "graph.add_edge(\"extract_diff\",\"analyze_diff\")\n",
    "graph.add_edge(\"analyze_diff\",\"create_summary\")\n",
    "graph.add_edge(\"create_summary\", END)\n",
    "\n",
    "app = graph.compile()\n",
    "\n",
    "Image(app.get_graph().draw_mermaid_png())\n"
   ]
  }
 ],
 "metadata": {
  "kernelspec": {
   "display_name": ".venv",
   "language": "python",
   "name": "python3"
  },
  "language_info": {
   "codemirror_mode": {
    "name": "ipython",
    "version": 3
   },
   "file_extension": ".py",
   "mimetype": "text/x-python",
   "name": "python",
   "nbconvert_exporter": "python",
   "pygments_lexer": "ipython3",
   "version": "3.13.5"
  }
 },
 "nbformat": 4,
 "nbformat_minor": 5
}
